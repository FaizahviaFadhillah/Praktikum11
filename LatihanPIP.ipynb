{
  "nbformat": 4,
  "nbformat_minor": 0,
  "metadata": {
    "colab": {
      "provenance": []
    },
    "kernelspec": {
      "name": "python3",
      "display_name": "Python 3"
    },
    "language_info": {
      "name": "python"
    }
  },
  "cells": [
    {
      "cell_type": "code",
      "execution_count": null,
      "metadata": {
        "id": "GS5xLUKP41EP"
      },
      "outputs": [],
      "source": [
        "import requests\n",
        "from bs4 import BeautifulSoup\n",
        "import pandas as pd"
      ]
    },
    {
      "cell_type": "code",
      "source": [
        "URL = \"https://jadwalsholat.org/jadwal-sholat/monthly.php\"\n",
        "page = requests.get(URL)\n",
        "\n",
        "soup = BeautifulSoup(page.text, \"html.parser\")\n",
        "jadwal = soup.select('.table_highlight td')\n",
        "for waktu in jadwal:\n",
        "    print(waktu.text)"
      ],
      "metadata": {
        "colab": {
          "base_uri": "https://localhost:8080/"
        },
        "id": "W0ehW0SP5E8s",
        "outputId": "26df88f1-7ad3-4885-ff5c-13d799946d8d"
      },
      "execution_count": null,
      "outputs": [
        {
          "output_type": "stream",
          "name": "stdout",
          "text": [
            "17\n",
            "04:18\n",
            "04:28\n",
            "05:47\n",
            "06:11\n",
            "12:04\n",
            "15:29\n",
            "18:18\n",
            "19:32\n"
          ]
        }
      ]
    }
  ]
}